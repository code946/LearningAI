{
 "cells": [
  {
   "cell_type": "markdown",
   "metadata": {},
   "source": [
    "# 《按图索骥学机器学习》-《A08正则化》"
   ]
  },
  {
   "cell_type": "markdown",
   "metadata": {},
   "source": [
    "这是《按图索骥学机器学习》-《A08正则化》的讲义\n",
    "这门课程之所以叫按图索骥，是因为学习资料都放到了思维导图当中，大家可以根据自己的情况，选择合适的学习路径，自主学习\n",
    "\n",
    "![avatar](pic/swnt.png)\n",
    "\n",
    "导图和有关学习资料都放在了github(git.code946.com)上，并且在不断迭代和更新中"
   ]
  },
  {
   "cell_type": "code",
   "execution_count": 3,
   "metadata": {},
   "outputs": [],
   "source": [
    "from sklearn.datasets import load_boston\n",
    "from sklearn.model_selection import train_test_split"
   ]
  },
  {
   "cell_type": "code",
   "execution_count": 4,
   "metadata": {},
   "outputs": [],
   "source": [
    "# 获取数据\n",
    "lb = load_boston()\n",
    "\n",
    "x_train,x_test,y_train,y_test = train_test_split(lb.data,lb.target,test_size=0.25)"
   ]
  },
  {
   "cell_type": "code",
   "execution_count": 5,
   "metadata": {},
   "outputs": [],
   "source": [
    "from sklearn.preprocessing import StandardScaler\n",
    "\n",
    "std_x = StandardScaler()\n",
    "x_train = std_x.fit_transform(x_train)\n",
    "x_test = std_x.transform(x_test)\n",
    "\n",
    "std_y = StandardScaler()\n",
    "y_train = std_y.fit_transform(y_train.reshape(-1,1))\n",
    "y_test = std_y.transform(y_test.reshape(-1,1))"
   ]
  },
  {
   "cell_type": "markdown",
   "metadata": {},
   "source": [
    "## L1正则化 LASSO回归"
   ]
  },
  {
   "cell_type": "code",
   "execution_count": 26,
   "metadata": {},
   "outputs": [
    {
     "name": "stdout",
     "output_type": "stream",
     "text": [
      "[-0.09182671  0.11808999  0.00767188  0.10699377 -0.21829753  0.26689259\n",
      "  0.00200722 -0.3453443   0.26154523 -0.17252651 -0.19565341  0.08286108\n",
      " -0.44509924]\n",
      "0.7303753315354603\n",
      "0.7639695467600665\n"
     ]
    }
   ],
   "source": [
    "from sklearn.linear_model import Lasso\n",
    "\n",
    "lasso = Lasso(alpha=0.001) #alpha 正则化力度\n",
    "lasso.fit(x_train,y_train)\n",
    "\n",
    "print(lasso.coef_)\n",
    "\n",
    "print(lasso.score(x_train,y_train))\n",
    "print(lasso.score(x_test,y_test))"
   ]
  },
  {
   "cell_type": "markdown",
   "metadata": {},
   "source": [
    "## L2正则化 Ridge岭回归"
   ]
  },
  {
   "cell_type": "code",
   "execution_count": 35,
   "metadata": {},
   "outputs": [
    {
     "name": "stdout",
     "output_type": "stream",
     "text": [
      "[[-0.09343147  0.12076142  0.01438437  0.10679862 -0.22257018  0.26689493\n",
      "   0.0056935  -0.34450913  0.27099106 -0.18256303 -0.19679932  0.08389\n",
      "  -0.44479859]]\n",
      "0.7304301559543349\n",
      "0.7642438527318214\n"
     ]
    }
   ],
   "source": [
    "from sklearn.linear_model import Ridge\n",
    "\n",
    "rd = Ridge(alpha=1)\n",
    "rd.fit(x_train,y_train)\n",
    "\n",
    "print(rd.coef_)\n",
    "\n",
    "print(rd.score(x_train,y_train))\n",
    "print(rd.score(x_test,y_test))"
   ]
  },
  {
   "cell_type": "markdown",
   "metadata": {},
   "source": [
    "## 弹性网 中和L1和L2"
   ]
  },
  {
   "cell_type": "code",
   "execution_count": 51,
   "metadata": {},
   "outputs": [
    {
     "name": "stdout",
     "output_type": "stream",
     "text": [
      "[-0.08913358  0.11104225  0.          0.10853962 -0.20631968  0.27096695\n",
      "  0.         -0.33148734  0.23345418 -0.14688239 -0.19394695  0.08300224\n",
      " -0.437589  ]\n",
      "0.729984790981771\n",
      "0.7649873859053719\n"
     ]
    }
   ],
   "source": [
    "from sklearn.linear_model import ElasticNet\n",
    "\n",
    "net = ElasticNet(alpha=0.01,l1_ratio=0.1)\n",
    "net.fit(x_train,y_train)\n",
    "\n",
    "print(net.coef_)\n",
    "\n",
    "print(net.score(x_train,y_train))\n",
    "print(net.score(x_test,y_test))"
   ]
  }
 ],
 "metadata": {
  "kernelspec": {
   "display_name": "Python 3",
   "language": "python",
   "name": "python3"
  },
  "language_info": {
   "codemirror_mode": {
    "name": "ipython",
    "version": 3
   },
   "file_extension": ".py",
   "mimetype": "text/x-python",
   "name": "python",
   "nbconvert_exporter": "python",
   "pygments_lexer": "ipython3",
   "version": "3.7.4"
  }
 },
 "nbformat": 4,
 "nbformat_minor": 2
}
