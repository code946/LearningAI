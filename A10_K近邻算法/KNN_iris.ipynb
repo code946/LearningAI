{
 "cells": [
  {
   "cell_type": "markdown",
   "metadata": {},
   "source": [
    "# 《按图索骥学机器学习》-《A10_K近邻算法》"
   ]
  },
  {
   "cell_type": "markdown",
   "metadata": {},
   "source": [
    "这是《按图索骥学机器学习》-《A10_K近邻算法》的讲义\n",
    "这门课程之所以叫按图索骥，是因为学习资料都放到了思维导图当中，大家可以根据自己的情况，选择合适的学习路径，自主学习\n",
    "\n",
    "![avatar](pic/swnt.png)\n",
    "\n",
    "导图和有关学习资料都放在了github(git.code946.com)上，并且在不断迭代和更新中"
   ]
  },
  {
   "cell_type": "code",
   "execution_count": 1,
   "metadata": {},
   "outputs": [
    {
     "name": "stdout",
     "output_type": "stream",
     "text": [
      ".. _iris_dataset:\n",
      "\n",
      "Iris plants dataset\n",
      "--------------------\n",
      "\n",
      "**Data Set Characteristics:**\n",
      "\n",
      "    :Number of Instances: 150 (50 in each of three classes)\n",
      "    :Number of Attributes: 4 numeric, predictive attributes and the class\n",
      "    :Attribute Information:\n",
      "        - sepal length in cm\n",
      "        - sepal width in cm\n",
      "        - petal length in cm\n",
      "        - petal width in cm\n",
      "        - class:\n",
      "                - Iris-Setosa\n",
      "                - Iris-Versicolour\n",
      "                - Iris-Virginica\n",
      "                \n",
      "    :Summary Statistics:\n",
      "\n",
      "    ============== ==== ==== ======= ===== ====================\n",
      "                    Min  Max   Mean    SD   Class Correlation\n",
      "    ============== ==== ==== ======= ===== ====================\n",
      "    sepal length:   4.3  7.9   5.84   0.83    0.7826\n",
      "    sepal width:    2.0  4.4   3.05   0.43   -0.4194\n",
      "    petal length:   1.0  6.9   3.76   1.76    0.9490  (high!)\n",
      "    petal width:    0.1  2.5   1.20   0.76    0.9565  (high!)\n",
      "    ============== ==== ==== ======= ===== ====================\n",
      "\n",
      "    :Missing Attribute Values: None\n",
      "    :Class Distribution: 33.3% for each of 3 classes.\n",
      "    :Creator: R.A. Fisher\n",
      "    :Donor: Michael Marshall (MARSHALL%PLU@io.arc.nasa.gov)\n",
      "    :Date: July, 1988\n",
      "\n",
      "The famous Iris database, first used by Sir R.A. Fisher. The dataset is taken\n",
      "from Fisher's paper. Note that it's the same as in R, but not as in the UCI\n",
      "Machine Learning Repository, which has two wrong data points.\n",
      "\n",
      "This is perhaps the best known database to be found in the\n",
      "pattern recognition literature.  Fisher's paper is a classic in the field and\n",
      "is referenced frequently to this day.  (See Duda & Hart, for example.)  The\n",
      "data set contains 3 classes of 50 instances each, where each class refers to a\n",
      "type of iris plant.  One class is linearly separable from the other 2; the\n",
      "latter are NOT linearly separable from each other.\n",
      "\n",
      ".. topic:: References\n",
      "\n",
      "   - Fisher, R.A. \"The use of multiple measurements in taxonomic problems\"\n",
      "     Annual Eugenics, 7, Part II, 179-188 (1936); also in \"Contributions to\n",
      "     Mathematical Statistics\" (John Wiley, NY, 1950).\n",
      "   - Duda, R.O., & Hart, P.E. (1973) Pattern Classification and Scene Analysis.\n",
      "     (Q327.D83) John Wiley & Sons.  ISBN 0-471-22361-1.  See page 218.\n",
      "   - Dasarathy, B.V. (1980) \"Nosing Around the Neighborhood: A New System\n",
      "     Structure and Classification Rule for Recognition in Partially Exposed\n",
      "     Environments\".  IEEE Transactions on Pattern Analysis and Machine\n",
      "     Intelligence, Vol. PAMI-2, No. 1, 67-71.\n",
      "   - Gates, G.W. (1972) \"The Reduced Nearest Neighbor Rule\".  IEEE Transactions\n",
      "     on Information Theory, May 1972, 431-433.\n",
      "   - See also: 1988 MLC Proceedings, 54-64.  Cheeseman et al\"s AUTOCLASS II\n",
      "     conceptual clustering system finds 3 classes in the data.\n",
      "   - Many, many more ...\n",
      "[5.1 3.5 1.4 0.2] 0\n",
      "[4.9 3.  1.4 0.2] 0\n",
      "[4.7 3.2 1.3 0.2] 0\n",
      "[4.6 3.1 1.5 0.2] 0\n",
      "[5.  3.6 1.4 0.2] 0\n",
      "[5.4 3.9 1.7 0.4] 0\n",
      "[4.6 3.4 1.4 0.3] 0\n",
      "[5.  3.4 1.5 0.2] 0\n",
      "[4.4 2.9 1.4 0.2] 0\n",
      "[4.9 3.1 1.5 0.1] 0\n",
      "[5.4 3.7 1.5 0.2] 0\n",
      "[4.8 3.4 1.6 0.2] 0\n",
      "[4.8 3.  1.4 0.1] 0\n",
      "[4.3 3.  1.1 0.1] 0\n",
      "[5.8 4.  1.2 0.2] 0\n",
      "[5.7 4.4 1.5 0.4] 0\n",
      "[5.4 3.9 1.3 0.4] 0\n",
      "[5.1 3.5 1.4 0.3] 0\n",
      "[5.7 3.8 1.7 0.3] 0\n",
      "[5.1 3.8 1.5 0.3] 0\n",
      "[5.4 3.4 1.7 0.2] 0\n",
      "[5.1 3.7 1.5 0.4] 0\n",
      "[4.6 3.6 1.  0.2] 0\n",
      "[5.1 3.3 1.7 0.5] 0\n",
      "[4.8 3.4 1.9 0.2] 0\n",
      "[5.  3.  1.6 0.2] 0\n",
      "[5.  3.4 1.6 0.4] 0\n",
      "[5.2 3.5 1.5 0.2] 0\n",
      "[5.2 3.4 1.4 0.2] 0\n",
      "[4.7 3.2 1.6 0.2] 0\n",
      "[4.8 3.1 1.6 0.2] 0\n",
      "[5.4 3.4 1.5 0.4] 0\n",
      "[5.2 4.1 1.5 0.1] 0\n",
      "[5.5 4.2 1.4 0.2] 0\n",
      "[4.9 3.1 1.5 0.2] 0\n",
      "[5.  3.2 1.2 0.2] 0\n",
      "[5.5 3.5 1.3 0.2] 0\n",
      "[4.9 3.6 1.4 0.1] 0\n",
      "[4.4 3.  1.3 0.2] 0\n",
      "[5.1 3.4 1.5 0.2] 0\n",
      "[5.  3.5 1.3 0.3] 0\n",
      "[4.5 2.3 1.3 0.3] 0\n",
      "[4.4 3.2 1.3 0.2] 0\n",
      "[5.  3.5 1.6 0.6] 0\n",
      "[5.1 3.8 1.9 0.4] 0\n",
      "[4.8 3.  1.4 0.3] 0\n",
      "[5.1 3.8 1.6 0.2] 0\n",
      "[4.6 3.2 1.4 0.2] 0\n",
      "[5.3 3.7 1.5 0.2] 0\n",
      "[5.  3.3 1.4 0.2] 0\n",
      "[7.  3.2 4.7 1.4] 1\n",
      "[6.4 3.2 4.5 1.5] 1\n",
      "[6.9 3.1 4.9 1.5] 1\n",
      "[5.5 2.3 4.  1.3] 1\n",
      "[6.5 2.8 4.6 1.5] 1\n",
      "[5.7 2.8 4.5 1.3] 1\n",
      "[6.3 3.3 4.7 1.6] 1\n",
      "[4.9 2.4 3.3 1. ] 1\n",
      "[6.6 2.9 4.6 1.3] 1\n",
      "[5.2 2.7 3.9 1.4] 1\n",
      "[5.  2.  3.5 1. ] 1\n",
      "[5.9 3.  4.2 1.5] 1\n",
      "[6.  2.2 4.  1. ] 1\n",
      "[6.1 2.9 4.7 1.4] 1\n",
      "[5.6 2.9 3.6 1.3] 1\n",
      "[6.7 3.1 4.4 1.4] 1\n",
      "[5.6 3.  4.5 1.5] 1\n",
      "[5.8 2.7 4.1 1. ] 1\n",
      "[6.2 2.2 4.5 1.5] 1\n",
      "[5.6 2.5 3.9 1.1] 1\n",
      "[5.9 3.2 4.8 1.8] 1\n",
      "[6.1 2.8 4.  1.3] 1\n",
      "[6.3 2.5 4.9 1.5] 1\n",
      "[6.1 2.8 4.7 1.2] 1\n",
      "[6.4 2.9 4.3 1.3] 1\n",
      "[6.6 3.  4.4 1.4] 1\n",
      "[6.8 2.8 4.8 1.4] 1\n",
      "[6.7 3.  5.  1.7] 1\n",
      "[6.  2.9 4.5 1.5] 1\n",
      "[5.7 2.6 3.5 1. ] 1\n",
      "[5.5 2.4 3.8 1.1] 1\n",
      "[5.5 2.4 3.7 1. ] 1\n",
      "[5.8 2.7 3.9 1.2] 1\n",
      "[6.  2.7 5.1 1.6] 1\n",
      "[5.4 3.  4.5 1.5] 1\n",
      "[6.  3.4 4.5 1.6] 1\n",
      "[6.7 3.1 4.7 1.5] 1\n",
      "[6.3 2.3 4.4 1.3] 1\n",
      "[5.6 3.  4.1 1.3] 1\n",
      "[5.5 2.5 4.  1.3] 1\n",
      "[5.5 2.6 4.4 1.2] 1\n",
      "[6.1 3.  4.6 1.4] 1\n",
      "[5.8 2.6 4.  1.2] 1\n",
      "[5.  2.3 3.3 1. ] 1\n",
      "[5.6 2.7 4.2 1.3] 1\n",
      "[5.7 3.  4.2 1.2] 1\n",
      "[5.7 2.9 4.2 1.3] 1\n",
      "[6.2 2.9 4.3 1.3] 1\n",
      "[5.1 2.5 3.  1.1] 1\n",
      "[5.7 2.8 4.1 1.3] 1\n",
      "[6.3 3.3 6.  2.5] 2\n",
      "[5.8 2.7 5.1 1.9] 2\n",
      "[7.1 3.  5.9 2.1] 2\n",
      "[6.3 2.9 5.6 1.8] 2\n",
      "[6.5 3.  5.8 2.2] 2\n",
      "[7.6 3.  6.6 2.1] 2\n",
      "[4.9 2.5 4.5 1.7] 2\n",
      "[7.3 2.9 6.3 1.8] 2\n",
      "[6.7 2.5 5.8 1.8] 2\n",
      "[7.2 3.6 6.1 2.5] 2\n",
      "[6.5 3.2 5.1 2. ] 2\n",
      "[6.4 2.7 5.3 1.9] 2\n",
      "[6.8 3.  5.5 2.1] 2\n",
      "[5.7 2.5 5.  2. ] 2\n",
      "[5.8 2.8 5.1 2.4] 2\n",
      "[6.4 3.2 5.3 2.3] 2\n",
      "[6.5 3.  5.5 1.8] 2\n",
      "[7.7 3.8 6.7 2.2] 2\n",
      "[7.7 2.6 6.9 2.3] 2\n",
      "[6.  2.2 5.  1.5] 2\n",
      "[6.9 3.2 5.7 2.3] 2\n",
      "[5.6 2.8 4.9 2. ] 2\n",
      "[7.7 2.8 6.7 2. ] 2\n",
      "[6.3 2.7 4.9 1.8] 2\n",
      "[6.7 3.3 5.7 2.1] 2\n",
      "[7.2 3.2 6.  1.8] 2\n",
      "[6.2 2.8 4.8 1.8] 2\n",
      "[6.1 3.  4.9 1.8] 2\n",
      "[6.4 2.8 5.6 2.1] 2\n",
      "[7.2 3.  5.8 1.6] 2\n",
      "[7.4 2.8 6.1 1.9] 2\n",
      "[7.9 3.8 6.4 2. ] 2\n",
      "[6.4 2.8 5.6 2.2] 2\n",
      "[6.3 2.8 5.1 1.5] 2\n",
      "[6.1 2.6 5.6 1.4] 2\n",
      "[7.7 3.  6.1 2.3] 2\n",
      "[6.3 3.4 5.6 2.4] 2\n",
      "[6.4 3.1 5.5 1.8] 2\n",
      "[6.  3.  4.8 1.8] 2\n",
      "[6.9 3.1 5.4 2.1] 2\n",
      "[6.7 3.1 5.6 2.4] 2\n",
      "[6.9 3.1 5.1 2.3] 2\n",
      "[5.8 2.7 5.1 1.9] 2\n",
      "[6.8 3.2 5.9 2.3] 2\n",
      "[6.7 3.3 5.7 2.5] 2\n",
      "[6.7 3.  5.2 2.3] 2\n",
      "[6.3 2.5 5.  1.9] 2\n",
      "[6.5 3.  5.2 2. ] 2\n",
      "[6.2 3.4 5.4 2.3] 2\n",
      "[5.9 3.  5.1 1.8] 2\n"
     ]
    }
   ],
   "source": [
    "from sklearn.datasets import load_iris\n",
    "\n",
    "# 使用加载器读取数据并且存入变量iris。\n",
    "iris = load_iris()\n",
    "\n",
    "print(iris[\"DESCR\"])\n",
    "\n",
    "for i in range(0,iris.target.shape[0]) :\n",
    "    print(iris.data[i],iris.target[i])"
   ]
  },
  {
   "cell_type": "code",
   "execution_count": 2,
   "metadata": {},
   "outputs": [],
   "source": [
    "from sklearn.preprocessing import StandardScaler\n",
    "from sklearn.model_selection import train_test_split\n",
    "\n",
    "x_train, x_test, y_train, y_test = train_test_split(iris.data, iris.target, test_size=0.25)\n",
    "\n",
    "# 对训练和测试的特征数据进行标准化。\n",
    "std_x = StandardScaler()\n",
    "x_train = std_x.fit_transform(x_train)\n",
    "x_test = std_x.transform(x_test)\n"
   ]
  },
  {
   "cell_type": "code",
   "execution_count": 6,
   "metadata": {},
   "outputs": [],
   "source": [
    "from sklearn.neighbors import KNeighborsClassifier\n",
    "from sklearn.model_selection import GridSearchCV"
   ]
  },
  {
   "cell_type": "code",
   "execution_count": 10,
   "metadata": {},
   "outputs": [
    {
     "name": "stderr",
     "output_type": "stream",
     "text": [
      "C:\\ProgramData\\Anaconda3\\lib\\site-packages\\sklearn\\model_selection\\_search.py:814: DeprecationWarning: The default of the `iid` parameter will change from True to False in version 0.22 and will be removed in 0.24. This will change numeric results when test-set sizes are unequal.\n",
      "  DeprecationWarning)\n"
     ]
    },
    {
     "data": {
      "text/plain": [
       "GridSearchCV(cv=5, error_score='raise-deprecating',\n",
       "             estimator=KNeighborsClassifier(algorithm='auto', leaf_size=30,\n",
       "                                            metric='minkowski',\n",
       "                                            metric_params=None, n_jobs=None,\n",
       "                                            n_neighbors=5, p=2,\n",
       "                                            weights='uniform'),\n",
       "             iid='warn', n_jobs=None, param_grid={'n_neighbors': [3, 5, 7, 10]},\n",
       "             pre_dispatch='2*n_jobs', refit=True, return_train_score=False,\n",
       "             scoring=None, verbose=0)"
      ]
     },
     "execution_count": 10,
     "metadata": {},
     "output_type": "execute_result"
    }
   ],
   "source": [
    "knn = KNeighborsClassifier() # 默认K=5\n",
    "\n",
    "param={\"n_neighbors\":[3,5,7,10]}\n",
    "\n",
    "gc = GridSearchCV(knn,param_grid=param,cv=5)\n",
    "gc.fit(x_train,y_train)"
   ]
  },
  {
   "cell_type": "code",
   "execution_count": 11,
   "metadata": {},
   "outputs": [
    {
     "name": "stdout",
     "output_type": "stream",
     "text": [
      "训练集分数： 0.9732142857142857\n"
     ]
    }
   ],
   "source": [
    "print(\"训练集分数：\",gc.best_score_)"
   ]
  },
  {
   "cell_type": "code",
   "execution_count": 12,
   "metadata": {},
   "outputs": [
    {
     "name": "stdout",
     "output_type": "stream",
     "text": [
      "最好的模型： KNeighborsClassifier(algorithm='auto', leaf_size=30, metric='minkowski',\n",
      "                     metric_params=None, n_jobs=None, n_neighbors=10, p=2,\n",
      "                     weights='uniform')\n"
     ]
    }
   ],
   "source": [
    "print(\"最好的模型：\",gc.best_estimator_)"
   ]
  },
  {
   "cell_type": "code",
   "execution_count": 14,
   "metadata": {},
   "outputs": [
    {
     "name": "stdout",
     "output_type": "stream",
     "text": [
      "测试分数： 0.9736842105263158\n"
     ]
    }
   ],
   "source": [
    "print(\"测试分数：\",gc.best_estimator_.score(x_test,y_test))"
   ]
  },
  {
   "cell_type": "markdown",
   "metadata": {},
   "source": [
    "### 决策边界"
   ]
  },
  {
   "cell_type": "code",
   "execution_count": 15,
   "metadata": {},
   "outputs": [],
   "source": [
    "def plot_decision_boundary(model, axis):  \n",
    "    x0, x1 = np.meshgrid(\n",
    "        np.linspace(axis[0], axis[1], int((axis[1]-axis[0])*100)).reshape(-1, 1),\n",
    "        np.linspace(axis[2], axis[3], int((axis[3]-axis[2])*100)).reshape(-1, 1),\n",
    "    )\n",
    "    X_new = np.c_[x0.ravel(), x1.ravel()]\n",
    "\n",
    "    y_predict = model.predict(X_new)\n",
    "    zz = y_predict.reshape(x0.shape)\n",
    "\n",
    "    from matplotlib.colors import ListedColormap\n",
    "    custom_cmap = ListedColormap(['#EF9A9A','#FFF59D','#90CAF9'])\n",
    "    \n",
    "    plt.contourf(x0, x1, zz, linewidth=5, cmap=custom_cmap)"
   ]
  },
  {
   "cell_type": "code",
   "execution_count": 16,
   "metadata": {},
   "outputs": [
    {
     "name": "stderr",
     "output_type": "stream",
     "text": [
      "C:\\ProgramData\\Anaconda3\\lib\\site-packages\\ipykernel_launcher.py:14: UserWarning: The following kwargs were not used by contour: 'linewidth'\n",
      "  \n"
     ]
    },
    {
     "data": {
      "image/png": "[encoded data removed]",
      "text/plain": [
       "<Figure size 432x288 with 1 Axes>"
      ]
     },
     "metadata": {
      "needs_background": "light"
     },
     "output_type": "display_data"
    }
   ],
   "source": [
    "import numpy as np\n",
    "import matplotlib.pyplot as plt\n",
    "\n",
    "knn_best = gc.best_estimator_\n",
    "X = iris.data[:,:2]\n",
    "y = iris.target\n",
    "knn_best.fit(X, y)\n",
    "\n",
    "plot_decision_boundary(knn_best, axis=[4, 8, 1.5, 4.5])\n",
    "plt.scatter(X[y==0,0], X[y==0,1])\n",
    "plt.scatter(X[y==1,0], X[y==1,1])\n",
    "plt.scatter(X[y==2,0], X[y==2,1])\n",
    "plt.show()"
   ]
  }
 ],
 "metadata": {
  "kernelspec": {
   "display_name": "Python 3",
   "language": "python",
   "name": "python3"
  },
  "language_info": {
   "codemirror_mode": {
    "name": "ipython",
    "version": 3
   },
   "file_extension": ".py",
   "mimetype": "text/x-python",
   "name": "python",
   "nbconvert_exporter": "python",
   "pygments_lexer": "ipython3",
   "version": "3.7.4"
  }
 },
 "nbformat": 4,
 "nbformat_minor": 2
}
