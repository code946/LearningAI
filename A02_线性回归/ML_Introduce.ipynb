{
 "cells": [
  {
   "cell_type": "markdown",
   "metadata": {},
   "source": [
    "# 《按图索骥学机器学习》-《A01什么是机器学习》"
   ]
  },
  {
   "cell_type": "markdown",
   "metadata": {},
   "source": [
    "这是《按图索骥学机器学习》-《A01什么是机器学习》的讲义\n",
    "这门课程之所以叫按图索骥，是因为学习资料都放到了思维导图当中，大家可以根据自己的情况，选择合适的学习路径，自主学习\n",
    "\n",
    "![avatar](pic/swnt.png)\n",
    "\n",
    "导图和有关学习资料都放在了github(git.code946.com)上，并且在不断迭代和更新中"
   ]
  },
  {
   "cell_type": "markdown",
   "metadata": {},
   "source": [
    "## 1、传统编程模式"
   ]
  },
  {
   "cell_type": "code",
   "execution_count": 1,
   "metadata": {},
   "outputs": [
    {
     "name": "stdout",
     "output_type": "stream",
     "text": [
      "半径为2的圆形周长为：12.560000\n"
     ]
    }
   ],
   "source": [
    "radius = 2 # 圆半径\n",
    "circle = 2 * 3.14 * radius # 圆形周长2*PI*半径r\n",
    "print(\"半径为%d的圆形周长为：%f\" % (radius,circle))"
   ]
  },
  {
   "cell_type": "markdown",
   "metadata": {},
   "source": [
    "程序 = 数据结构 + 算法\n",
    "数据结构：数值型---圆半径\n",
    "算法：圆周长 = 2 * PI * 半径"
   ]
  },
  {
   "cell_type": "markdown",
   "metadata": {},
   "source": [
    "## 2、机器学习模型推导圆周长公式"
   ]
  },
  {
   "cell_type": "markdown",
   "metadata": {},
   "source": [
    "第一步：加载数据，绘制图形"
   ]
  },
  {
   "cell_type": "code",
   "execution_count": 2,
   "metadata": {},
   "outputs": [],
   "source": [
    "import pandas as pd\n",
    "import numpy as np\n",
    "import matplotlib\n",
    "from matplotlib import pyplot as plt\n",
    "\n",
    "zhfont1 = matplotlib.font_manager.FontProperties(fname='C:\\Windows\\Fonts\\simkai.ttf')"
   ]
  },
  {
   "cell_type": "code",
   "execution_count": 3,
   "metadata": {},
   "outputs": [],
   "source": [
    "circular_train = pd.read_csv(\"circle.csv\")"
   ]
  },
  {
   "cell_type": "code",
   "execution_count": 4,
   "metadata": {},
   "outputs": [
    {
     "data": {
      "text/html": [
       "<div>\n",
       "<style scoped>\n",
       "    .dataframe tbody tr th:only-of-type {\n",
       "        vertical-align: middle;\n",
       "    }\n",
       "\n",
       "    .dataframe tbody tr th {\n",
       "        vertical-align: top;\n",
       "    }\n",
       "\n",
       "    .dataframe thead th {\n",
       "        text-align: right;\n",
       "    }\n",
       "</style>\n",
       "<table border=\"1\" class=\"dataframe\">\n",
       "  <thead>\n",
       "    <tr style=\"text-align: right;\">\n",
       "      <th></th>\n",
       "      <th>diameter</th>\n",
       "      <th>circle</th>\n",
       "    </tr>\n",
       "  </thead>\n",
       "  <tbody>\n",
       "    <tr>\n",
       "      <td>0</td>\n",
       "      <td>1.60</td>\n",
       "      <td>3.92</td>\n",
       "    </tr>\n",
       "    <tr>\n",
       "      <td>1</td>\n",
       "      <td>3.95</td>\n",
       "      <td>11.46</td>\n",
       "    </tr>\n",
       "    <tr>\n",
       "      <td>2</td>\n",
       "      <td>7.16</td>\n",
       "      <td>22.43</td>\n",
       "    </tr>\n",
       "    <tr>\n",
       "      <td>3</td>\n",
       "      <td>9.65</td>\n",
       "      <td>29.54</td>\n",
       "    </tr>\n",
       "    <tr>\n",
       "      <td>4</td>\n",
       "      <td>4.93</td>\n",
       "      <td>13.65</td>\n",
       "    </tr>\n",
       "    <tr>\n",
       "      <td>...</td>\n",
       "      <td>...</td>\n",
       "      <td>...</td>\n",
       "    </tr>\n",
       "    <tr>\n",
       "      <td>95</td>\n",
       "      <td>6.35</td>\n",
       "      <td>21.40</td>\n",
       "    </tr>\n",
       "    <tr>\n",
       "      <td>96</td>\n",
       "      <td>9.62</td>\n",
       "      <td>30.80</td>\n",
       "    </tr>\n",
       "    <tr>\n",
       "      <td>97</td>\n",
       "      <td>6.39</td>\n",
       "      <td>20.70</td>\n",
       "    </tr>\n",
       "    <tr>\n",
       "      <td>98</td>\n",
       "      <td>10.12</td>\n",
       "      <td>31.92</td>\n",
       "    </tr>\n",
       "    <tr>\n",
       "      <td>99</td>\n",
       "      <td>5.00</td>\n",
       "      <td>15.44</td>\n",
       "    </tr>\n",
       "  </tbody>\n",
       "</table>\n",
       "<p>100 rows × 2 columns</p>\n",
       "</div>"
      ],
      "text/plain": [
       "    diameter  circle\n",
       "0       1.60    3.92\n",
       "1       3.95   11.46\n",
       "2       7.16   22.43\n",
       "3       9.65   29.54\n",
       "4       4.93   13.65\n",
       "..       ...     ...\n",
       "95      6.35   21.40\n",
       "96      9.62   30.80\n",
       "97      6.39   20.70\n",
       "98     10.12   31.92\n",
       "99      5.00   15.44\n",
       "\n",
       "[100 rows x 2 columns]"
      ]
     },
     "execution_count": 4,
     "metadata": {},
     "output_type": "execute_result"
    }
   ],
   "source": [
    "circular_train"
   ]
  },
  {
   "cell_type": "code",
   "execution_count": 5,
   "metadata": {},
   "outputs": [
    {
     "data": {
      "text/plain": [
       "<matplotlib.collections.PathCollection at 0x2b6ce6b12c8>"
      ]
     },
     "execution_count": 5,
     "metadata": {},
     "output_type": "execute_result"
    },
    {
     "data": {
      "image/png": "[encoded data removed]",
      "text/plain": [
       "<Figure size 432x288 with 1 Axes>"
      ]
     },
     "metadata": {
      "needs_background": "light"
     },
     "output_type": "display_data"
    }
   ],
   "source": [
    "plt.xlabel(\"直径\",fontproperties=zhfont1,fontsize=16)\n",
    "plt.ylabel(\"周长\",fontproperties=zhfont1,fontsize=16)\n",
    "plt.scatter(circular_train[\"diameter\"],circular_train[\"circle\"])"
   ]
  },
  {
   "cell_type": "markdown",
   "metadata": {},
   "source": [
    "直径和周长是呈线性关系\n",
    "帮助选择合适的机器学习的模型，去总结圆周长的计算公式\n",
    "线性回归的算法模型"
   ]
  },
  {
   "cell_type": "markdown",
   "metadata": {},
   "source": [
    "第二步：引入sk-learn框架，调用LinearRegression模型"
   ]
  },
  {
   "cell_type": "code",
   "execution_count": 6,
   "metadata": {},
   "outputs": [],
   "source": [
    "from sklearn.linear_model import LinearRegression"
   ]
  },
  {
   "cell_type": "markdown",
   "metadata": {},
   "source": [
    "第三步：训练模型"
   ]
  },
  {
   "cell_type": "code",
   "execution_count": 7,
   "metadata": {},
   "outputs": [
    {
     "data": {
      "text/plain": [
       "LinearRegression(copy_X=True, fit_intercept=True, n_jobs=None, normalize=False)"
      ]
     },
     "execution_count": 7,
     "metadata": {},
     "output_type": "execute_result"
    }
   ],
   "source": [
    "lr = LinearRegression()\n",
    "lr.fit(circular_train[\"diameter\"].values.reshape(-1,1),circular_train[\"circle\"]) \n",
    "# fit方法第一个参数要求多维数组，但是diameter只有一列，所以做个转换，这种情况极其罕见，照做就可以了"
   ]
  },
  {
   "cell_type": "markdown",
   "metadata": {},
   "source": [
    "当fit方法执行完毕后，模型已经训练完毕\n",
    "通过散点图上的可视化信息，了解到模型的训练结果，是一条直线，直线方程中重要的两个数据：斜率和截距"
   ]
  },
  {
   "cell_type": "code",
   "execution_count": 8,
   "metadata": {},
   "outputs": [
    {
     "name": "stdout",
     "output_type": "stream",
     "text": [
      "[3.09316678]\n",
      "0.19481389957470086\n"
     ]
    }
   ],
   "source": [
    "print(lr.coef_) # 斜率\n",
    "print(lr.intercept_) # 截距"
   ]
  },
  {
   "cell_type": "markdown",
   "metadata": {},
   "source": [
    "圆周长数学计算公式；周长 = PI * 直径 + 0\n",
    "模型推导出的公式：周长 = lr.coef_ * 直径 + lr.intercept_\n",
    "lr.coef对应的就是PI\n",
    "这里误差：原始数据是有误差的"
   ]
  },
  {
   "cell_type": "code",
   "execution_count": 11,
   "metadata": {},
   "outputs": [
    {
     "data": {
      "image/png": "[encoded data removed]",
      "text/plain": [
       "<Figure size 432x288 with 1 Axes>"
      ]
     },
     "metadata": {
      "needs_background": "light"
     },
     "output_type": "display_data"
    }
   ],
   "source": [
    "plt.xlabel(\"直径\",fontproperties=zhfont1,fontsize=16)\n",
    "plt.ylabel(\"周长\",fontproperties=zhfont1,fontsize=16)\n",
    "plt.scatter(circular_train[\"diameter\"],circular_train[\"circle\"])\n",
    "\n",
    "plt.plot(circular_train[\"diameter\"],lr.coef_*circular_train[\"diameter\"]+lr.intercept_,color=\"r\")\n",
    "plt.show()"
   ]
  },
  {
   "cell_type": "markdown",
   "metadata": {},
   "source": [
    "## 3、模型评估"
   ]
  },
  {
   "cell_type": "markdown",
   "metadata": {},
   "source": [
    "专门用于对模型进行评估的数据，测试数据\n",
    "注意：生成的测试数据是精确值，目的是为了看到真实的误差值，但是实际情况是不一样的\n",
    "实际上，测试数据和训练模型数据，来源是一样的，也是有误差的"
   ]
  },
  {
   "cell_type": "code",
   "execution_count": null,
   "metadata": {},
   "outputs": [],
   "source": [
    "d = np.arange(10,100,10)\n",
    "circular_test = {\n",
    "    'diameter': d,\n",
    "    'circle': 3.14*d\n",
    "}\n",
    "circular_test"
   ]
  },
  {
   "cell_type": "code",
   "execution_count": null,
   "metadata": {},
   "outputs": [],
   "source": [
    "print(lr.coef_ * 10 + lr.intercept_)"
   ]
  },
  {
   "cell_type": "code",
   "execution_count": null,
   "metadata": {},
   "outputs": [],
   "source": [
    "lr.score(circular_test[\"diameter\"].reshape(-1,1),circular_test[\"circle\"])"
   ]
  },
  {
   "cell_type": "markdown",
   "metadata": {},
   "source": [
    "score的分值越接近于1，代表模型越好，误差值越小\n",
    "score的计算公式，暂时不管"
   ]
  },
  {
   "cell_type": "markdown",
   "metadata": {},
   "source": [
    "## 4、传统编程模式 VS 机器学习编程模式"
   ]
  },
  {
   "cell_type": "markdown",
   "metadata": {},
   "source": [
    "### 4.1、传统编程模式\n",
    "\n",
    "![avatar](pic/ctbc.png)"
   ]
  },
  {
   "cell_type": "markdown",
   "metadata": {},
   "source": [
    "传统编程模式是基于规则和数据的，目的是通过计算机的运算能力，快速的得到一个答案\n",
    "计算机程序 = 算法 + 数据结构"
   ]
  },
  {
   "cell_type": "markdown",
   "metadata": {},
   "source": [
    "### 4.2、机器学习编程模式\n",
    "\n",
    "![avatar](pic/jqxx.png)"
   ]
  },
  {
   "cell_type": "markdown",
   "metadata": {},
   "source": [
    "机器学习的模式：从已知的数据和答案出发，找出其中的规则，接下来就可以利用处理新数据\n",
    "得出的规则有误差：得到更加精确的数据，挑选更加合适的算法\n",
    "误差并不可怕，工程实践中有误差是很普遍事情，只要误差的范围能够接受就可以了，例如：PI无理数"
   ]
  }
 ],
 "metadata": {
  "kernelspec": {
   "display_name": "Python 3",
   "language": "python",
   "name": "python3"
  },
  "language_info": {
   "codemirror_mode": {
    "name": "ipython",
    "version": 3
   },
   "file_extension": ".py",
   "mimetype": "text/x-python",
   "name": "python",
   "nbconvert_exporter": "python",
   "pygments_lexer": "ipython3",
   "version": "3.7.4"
  }
 },
 "nbformat": 4,
 "nbformat_minor": 2
}
