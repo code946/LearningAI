{
 "cells": [
  {
   "cell_type": "code",
   "execution_count": 15,
   "metadata": {},
   "outputs": [],
   "source": [
    "import pandas as pd\n",
    "import numpy as np\n",
    "import random"
   ]
  },
  {
   "cell_type": "code",
   "execution_count": 16,
   "metadata": {},
   "outputs": [
    {
     "name": "stdout",
     "output_type": "stream",
     "text": [
      "dict_keys(['diameter', 'circle'])\n",
      "diameter\n",
      "circle\n"
     ]
    }
   ],
   "source": [
    "d = np.random.rand(100)*10\n",
    "\n",
    "circular_train = {\n",
    "    'diameter': d + np.random.rand(100),\n",
    "    'circle': 3.14*d + np.random.rand(100)*3\n",
    "}\n",
    "\n",
    "print(circular_train.keys())\n",
    "for item in circular_train:\n",
    "    print(item)"
   ]
  },
  {
   "cell_type": "code",
   "execution_count": 17,
   "metadata": {},
   "outputs": [],
   "source": [
    "import csv"
   ]
  },
  {
   "cell_type": "code",
   "execution_count": 18,
   "metadata": {},
   "outputs": [],
   "source": [
    "with open('circle.csv','w',newline='')as f:\n",
    "    f_csv = csv.DictWriter(f,circular_train.keys())\n",
    "    f_csv.writeheader()\n",
    "    for i in range(100):\n",
    "        f_csv.writerow({\"diameter\":round(circular_train[\"diameter\"][i],2),\"circle\":round(circular_train[\"circle\"][i],2)})"
   ]
  }
 ],
 "metadata": {
  "kernelspec": {
   "display_name": "Python 3",
   "language": "python",
   "name": "python3"
  },
  "language_info": {
   "codemirror_mode": {
    "name": "ipython",
    "version": 3
   },
   "file_extension": ".py",
   "mimetype": "text/x-python",
   "name": "python",
   "nbconvert_exporter": "python",
   "pygments_lexer": "ipython3",
   "version": "3.7.1"
  }
 },
 "nbformat": 4,
 "nbformat_minor": 2
}
