{
 "cells": [
  {
   "cell_type": "markdown",
   "metadata": {},
   "source": [
    "# 《按图索骥学机器学习》-《A03机器学习开发流程》"
   ]
  },
  {
   "cell_type": "markdown",
   "metadata": {},
   "source": [
    "这是《按图索骥学机器学习》-《A03机器学习开发流程》的讲义\n",
    "这门课程之所以叫按图索骥，是因为学习资料都放到了思维导图当中，大家可以根据自己的情况，选择合适的学习路径，自主学习\n",
    "\n",
    "![avatar](pic/swnt.png)\n",
    "\n",
    "导图和有关学习资料都放在了github(git.code946.com)上，并且在不断迭代和更新中"
   ]
  },
  {
   "cell_type": "markdown",
   "metadata": {},
   "source": [
    "## 第一步：加载数据集"
   ]
  },
  {
   "cell_type": "code",
   "execution_count": 16,
   "metadata": {},
   "outputs": [],
   "source": [
    "from sklearn.datasets import load_boston"
   ]
  },
  {
   "cell_type": "code",
   "execution_count": 17,
   "metadata": {},
   "outputs": [
    {
     "name": "stdout",
     "output_type": "stream",
     "text": [
      ".. _boston_dataset:\n",
      "\n",
      "Boston house prices dataset\n",
      "---------------------------\n",
      "\n",
      "**Data Set Characteristics:**  \n",
      "\n",
      "    :Number of Instances: 506 \n",
      "\n",
      "    :Number of Attributes: 13 numeric/categorical predictive. Median Value (attribute 14) is usually the target.\n",
      "\n",
      "    :Attribute Information (in order):\n",
      "        - CRIM     per capita crime rate by town\n",
      "        - ZN       proportion of residential land zoned for lots over 25,000 sq.ft.\n",
      "        - INDUS    proportion of non-retail business acres per town\n",
      "        - CHAS     Charles River dummy variable (= 1 if tract bounds river; 0 otherwise)\n",
      "        - NOX      nitric oxides concentration (parts per 10 million)\n",
      "        - RM       average number of rooms per dwelling\n",
      "        - AGE      proportion of owner-occupied units built prior to 1940\n",
      "        - DIS      weighted distances to five Boston employment centres\n",
      "        - RAD      index of accessibility to radial highways\n",
      "        - TAX      full-value property-tax rate per $10,000\n",
      "        - PTRATIO  pupil-teacher ratio by town\n",
      "        - B        1000(Bk - 0.63)^2 where Bk is the proportion of blacks by town\n",
      "        - LSTAT    % lower status of the population\n",
      "        - MEDV     Median value of owner-occupied homes in $1000's\n",
      "\n",
      "    :Missing Attribute Values: None\n",
      "\n",
      "    :Creator: Harrison, D. and Rubinfeld, D.L.\n",
      "\n",
      "This is a copy of UCI ML housing dataset.\n",
      "https://archive.ics.uci.edu/ml/machine-learning-databases/housing/\n",
      "\n",
      "\n",
      "This dataset was taken from the StatLib library which is maintained at Carnegie Mellon University.\n",
      "\n",
      "The Boston house-price data of Harrison, D. and Rubinfeld, D.L. 'Hedonic\n",
      "prices and the demand for clean air', J. Environ. Economics & Management,\n",
      "vol.5, 81-102, 1978.   Used in Belsley, Kuh & Welsch, 'Regression diagnostics\n",
      "...', Wiley, 1980.   N.B. Various transformations are used in the table on\n",
      "pages 244-261 of the latter.\n",
      "\n",
      "The Boston house-price data has been used in many machine learning papers that address regression\n",
      "problems.   \n",
      "     \n",
      ".. topic:: References\n",
      "\n",
      "   - Belsley, Kuh & Welsch, 'Regression diagnostics: Identifying Influential Data and Sources of Collinearity', Wiley, 1980. 244-261.\n",
      "   - Quinlan,R. (1993). Combining Instance-Based and Model-Based Learning. In Proceedings on the Tenth International Conference of Machine Learning, 236-243, University of Massachusetts, Amherst. Morgan Kaufmann.\n",
      "\n",
      "dict_keys(['data', 'target', 'feature_names', 'DESCR', 'filename'])\n",
      "['CRIM' 'ZN' 'INDUS' 'CHAS' 'NOX' 'RM' 'AGE' 'DIS' 'RAD' 'TAX' 'PTRATIO'\n",
      " 'B' 'LSTAT']\n",
      "[6.320e-03 1.800e+01 2.310e+00 0.000e+00 5.380e-01 6.575e+00 6.520e+01\n",
      " 4.090e+00 1.000e+00 2.960e+02 1.530e+01 3.969e+02 4.980e+00]\n",
      "24.0\n",
      "[2.7310e-02 0.0000e+00 7.0700e+00 0.0000e+00 4.6900e-01 6.4210e+00\n",
      " 7.8900e+01 4.9671e+00 2.0000e+00 2.4200e+02 1.7800e+01 3.9690e+02\n",
      " 9.1400e+00]\n",
      "21.6\n",
      "[2.7290e-02 0.0000e+00 7.0700e+00 0.0000e+00 4.6900e-01 7.1850e+00\n",
      " 6.1100e+01 4.9671e+00 2.0000e+00 2.4200e+02 1.7800e+01 3.9283e+02\n",
      " 4.0300e+00]\n",
      "34.7\n",
      "[3.2370e-02 0.0000e+00 2.1800e+00 0.0000e+00 4.5800e-01 6.9980e+00\n",
      " 4.5800e+01 6.0622e+00 3.0000e+00 2.2200e+02 1.8700e+01 3.9463e+02\n",
      " 2.9400e+00]\n",
      "33.4\n",
      "[6.9050e-02 0.0000e+00 2.1800e+00 0.0000e+00 4.5800e-01 7.1470e+00\n",
      " 5.4200e+01 6.0622e+00 3.0000e+00 2.2200e+02 1.8700e+01 3.9690e+02\n",
      " 5.3300e+00]\n",
      "36.2\n",
      "[2.9850e-02 0.0000e+00 2.1800e+00 0.0000e+00 4.5800e-01 6.4300e+00\n",
      " 5.8700e+01 6.0622e+00 3.0000e+00 2.2200e+02 1.8700e+01 3.9412e+02\n",
      " 5.2100e+00]\n",
      "28.7\n",
      "[8.8290e-02 1.2500e+01 7.8700e+00 0.0000e+00 5.2400e-01 6.0120e+00\n",
      " 6.6600e+01 5.5605e+00 5.0000e+00 3.1100e+02 1.5200e+01 3.9560e+02\n",
      " 1.2430e+01]\n",
      "22.9\n",
      "[1.4455e-01 1.2500e+01 7.8700e+00 0.0000e+00 5.2400e-01 6.1720e+00\n",
      " 9.6100e+01 5.9505e+00 5.0000e+00 3.1100e+02 1.5200e+01 3.9690e+02\n",
      " 1.9150e+01]\n",
      "27.1\n",
      "[2.1124e-01 1.2500e+01 7.8700e+00 0.0000e+00 5.2400e-01 5.6310e+00\n",
      " 1.0000e+02 6.0821e+00 5.0000e+00 3.1100e+02 1.5200e+01 3.8663e+02\n",
      " 2.9930e+01]\n",
      "16.5\n",
      "[1.7004e-01 1.2500e+01 7.8700e+00 0.0000e+00 5.2400e-01 6.0040e+00\n",
      " 8.5900e+01 6.5921e+00 5.0000e+00 3.1100e+02 1.5200e+01 3.8671e+02\n",
      " 1.7100e+01]\n",
      "18.9\n"
     ]
    }
   ],
   "source": [
    "# 获取数据\n",
    "lb = load_boston()\n",
    "\n",
    "print(lb['DESCR'])\n",
    "print(lb.keys())\n",
    "print(lb['feature_names'])\n",
    "for i in range(10):\n",
    "    print(lb.data[i])\n",
    "    print(lb.target[i])"
   ]
  },
  {
   "cell_type": "markdown",
   "metadata": {},
   "source": [
    "## 第二步：数据处理"
   ]
  },
  {
   "cell_type": "markdown",
   "metadata": {},
   "source": [
    "### 特征处理：查看数据集中的数据是否有缺失值"
   ]
  },
  {
   "cell_type": "code",
   "execution_count": 18,
   "metadata": {},
   "outputs": [
    {
     "data": {
      "text/plain": [
       "0     0\n",
       "1     0\n",
       "2     0\n",
       "3     0\n",
       "4     0\n",
       "5     0\n",
       "6     0\n",
       "7     0\n",
       "8     0\n",
       "9     0\n",
       "10    0\n",
       "11    0\n",
       "12    0\n",
       "dtype: int64"
      ]
     },
     "execution_count": 18,
     "metadata": {},
     "output_type": "execute_result"
    }
   ],
   "source": [
    "import pandas as pd\n",
    "\n",
    "pd.DataFrame(lb.data).isnull().sum()"
   ]
  },
  {
   "cell_type": "markdown",
   "metadata": {},
   "source": [
    "### 分割数据集\n",
    "\n",
    "train : 训练集\n",
    "test ：测试集\n",
    "x : 特征值\n",
    "y: 目标值\n",
    "\n",
    "x_train ：训练集中的特征值\n",
    "x_test：测试集中的特征值\n",
    "y_train：训练集中的目标值\n",
    "y_test：测试集中国的目标值"
   ]
  },
  {
   "cell_type": "code",
   "execution_count": 19,
   "metadata": {},
   "outputs": [],
   "source": [
    "from sklearn.model_selection import train_test_split\n",
    "\n",
    "x_train,x_test,y_train,y_test = train_test_split(lb.data,lb.target,test_size=0.25)"
   ]
  },
  {
   "cell_type": "markdown",
   "metadata": {},
   "source": [
    "## 第三步选择模型：线性回归"
   ]
  },
  {
   "cell_type": "code",
   "execution_count": 20,
   "metadata": {},
   "outputs": [],
   "source": [
    "from sklearn.linear_model import LinearRegression"
   ]
  },
  {
   "cell_type": "markdown",
   "metadata": {},
   "source": [
    "## 第四步训练模型"
   ]
  },
  {
   "cell_type": "code",
   "execution_count": 21,
   "metadata": {},
   "outputs": [
    {
     "data": {
      "text/plain": [
       "LinearRegression(copy_X=True, fit_intercept=True, n_jobs=None, normalize=False)"
      ]
     },
     "execution_count": 21,
     "metadata": {},
     "output_type": "execute_result"
    }
   ],
   "source": [
    "lr = LinearRegression()\n",
    "lr.fit(x_train,y_train)"
   ]
  },
  {
   "cell_type": "markdown",
   "metadata": {},
   "source": [
    "## 第五步模型评价"
   ]
  },
  {
   "cell_type": "code",
   "execution_count": 23,
   "metadata": {},
   "outputs": [
    {
     "name": "stdout",
     "output_type": "stream",
     "text": [
      "预测值： [37.7696424  18.50063955 13.08198736 17.34479812  8.53718404 15.35328755\n",
      " 15.33895135 22.09498553  6.45849233 20.61095659 20.70737133 21.01899275\n",
      " 21.5671184  29.84872204 22.33191995 25.38824381  6.94352121 20.52014786\n",
      " 14.20009318 28.75396373 20.18585548 18.05659075 24.5092971  23.46917592\n",
      " 22.71534378 39.49111955 18.34351975 31.62942059 30.0705854  37.22361853\n",
      " 15.12597802 22.82601066 24.79121559 20.29634213 12.65646525 16.5483236\n",
      " 19.21068791 30.96931453 19.08764487 24.44506934 16.6226502  19.22501005\n",
      " 27.43313113 18.6538912  29.82697817 27.04337518 32.29975203 19.24608934\n",
      " 19.48242818 28.71260503 18.65746845 15.5964108  25.28963253 11.73260401\n",
      " 19.80686398 30.3435758  19.2788143  15.55941984 24.67579798 20.89805436\n",
      " 26.71927871 26.73171508  3.48716542 23.55817554 22.2953745  27.81031594\n",
      " 27.47832981 23.79177862 35.49921597 14.24514374 21.38008698  2.74507102\n",
      " 25.23395065 25.24571261 30.30182559 10.58907752 16.55476647 23.62706305\n",
      " 30.3469208  31.75919428 31.78910656 31.94916831 19.07321296 34.1388292\n",
      " 27.8230765  23.56382258 24.78185256 31.51102668 27.81382811 23.55542899\n",
      " 37.31015762 20.73702209 23.9476343  22.74973968 22.92514524 19.60202698\n",
      " 23.04308786 27.01988719 22.3064943  20.85464072 16.17351617 32.59563402\n",
      " 19.03013331 19.59312945 18.42445502 26.30864524 28.31186256 25.50304275\n",
      " 11.40175823 19.89441393 36.60285027 43.16993183 24.35902142 32.57203487\n",
      " 12.37917806 13.14756903 12.37172352 12.47019468 36.94824118 23.85292003\n",
      " 26.72667538 18.58812703  7.60885622 22.88916239 15.08897169 20.16839045\n",
      " 29.13052083]\n",
      "真实值： [41.7 18.2 18.2 15.1  8.7 15.2 20.1 33.  10.2 27.9 21.7 21.8 16.1 24.3\n",
      " 22.  19.4  8.8 18.3 18.9 26.4 13.1 12.6 24.7 21.2 19.6 50.  16.1 32.5\n",
      " 30.1 36.  16.2 25.  24.3 13.8  9.5 19.1 24.3 32.2 18.4 27.5 17.5 19.6\n",
      " 22.6 20.1 32.9 23.3 27.5 22.6 20.4 24.4 16.4 17.6 22.7  5.6 19.9 24.\n",
      " 19.1 17.5 23.9 20.9 50.  23.9 14.4 22.2 20.3 26.6 36.2 23.4 46.7 14.8\n",
      " 16.5  8.1 15.  29.8 37.  16.5 15.6 22.4 35.4 31.5 29.9 31.1 20.1 34.6\n",
      " 23.9 24.4 19.1 29.1 26.6 24.4 50.  15.6 20.3 11.9 17.4 17.8 19.4 27.1\n",
      " 22.7 19.7 17.8 29.8 24.1 27.5 20.  22.  42.8 26.5 10.8 23.  36.5 50.\n",
      " 23.1 31.6 16.3 13.9 18.5 15.6 21.9 23.4 23.2 19.5  8.5 21.4 10.4 19.5\n",
      " 22.9]\n"
     ]
    }
   ],
   "source": [
    "# 通过传入测试集的特征值，模型计算出对应的目标值（模型预测出的）预测值\n",
    "y_predict = lr.predict(x_test)\n",
    "\n",
    "print(\"预测值：\",y_predict)\n",
    "print(\"真实值：\",y_test)"
   ]
  },
  {
   "cell_type": "code",
   "execution_count": 25,
   "metadata": {},
   "outputs": [
    {
     "name": "stdout",
     "output_type": "stream",
     "text": [
      "均方误差： 25.641020432427624\n"
     ]
    }
   ],
   "source": [
    "from sklearn.metrics import mean_squared_error\n",
    "\n",
    "print(\"均方误差：\",mean_squared_error(y_test,y_predict))"
   ]
  },
  {
   "cell_type": "code",
   "execution_count": 26,
   "metadata": {},
   "outputs": [
    {
     "name": "stdout",
     "output_type": "stream",
     "text": [
      "0.6686206831707937\n"
     ]
    }
   ],
   "source": [
    "print(lr.score(x_test,y_test))"
   ]
  },
  {
   "cell_type": "markdown",
   "metadata": {},
   "source": [
    "## 第六步：模型的保存和启用"
   ]
  },
  {
   "cell_type": "code",
   "execution_count": 28,
   "metadata": {},
   "outputs": [],
   "source": [
    "from sklearn.externals import joblib\n",
    "\n",
    "# joblib.dump(lr,\"house.pkl\")"
   ]
  },
  {
   "cell_type": "code",
   "execution_count": 29,
   "metadata": {},
   "outputs": [
    {
     "name": "stdout",
     "output_type": "stream",
     "text": [
      "0.6686206831707937\n"
     ]
    }
   ],
   "source": [
    "lr2 = joblib.load(\"house.pkl\")\n",
    "print(lr2.score(x_test,y_test))"
   ]
  }
 ],
 "metadata": {
  "kernelspec": {
   "display_name": "Python 3",
   "language": "python",
   "name": "python3"
  },
  "language_info": {
   "codemirror_mode": {
    "name": "ipython",
    "version": 3
   },
   "file_extension": ".py",
   "mimetype": "text/x-python",
   "name": "python",
   "nbconvert_exporter": "python",
   "pygments_lexer": "ipython3",
   "version": "3.7.4"
  }
 },
 "nbformat": 4,
 "nbformat_minor": 2
}
