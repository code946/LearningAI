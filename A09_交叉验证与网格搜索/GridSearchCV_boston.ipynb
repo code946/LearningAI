{
 "cells": [
  {
   "cell_type": "markdown",
   "metadata": {},
   "source": [
    "# 《按图索骥学机器学习》-《A09_交叉验证与网格搜索》"
   ]
  },
  {
   "cell_type": "markdown",
   "metadata": {},
   "source": [
    "这是《按图索骥学机器学习》-《A09_交叉验证与网格搜索》的讲义\n",
    "这门课程之所以叫按图索骥，是因为学习资料都放到了思维导图当中，大家可以根据自己的情况，选择合适的学习路径，自主学习\n",
    "\n",
    "![avatar](pic/swnt.png)\n",
    "\n",
    "导图和有关学习资料都放在了github(git.code946.com)上，并且在不断迭代和更新中"
   ]
  },
  {
   "cell_type": "code",
   "execution_count": 2,
   "metadata": {},
   "outputs": [],
   "source": [
    "from sklearn.datasets import load_boston\n",
    "from sklearn.model_selection import train_test_split"
   ]
  },
  {
   "cell_type": "code",
   "execution_count": 3,
   "metadata": {},
   "outputs": [],
   "source": [
    "# 获取数据\n",
    "lb = load_boston()\n",
    "\n",
    "x_train,x_test,y_train,y_test = train_test_split(lb.data,lb.target,test_size=0.25)"
   ]
  },
  {
   "cell_type": "code",
   "execution_count": 4,
   "metadata": {},
   "outputs": [],
   "source": [
    "from sklearn.preprocessing import StandardScaler\n",
    "\n",
    "std_x = StandardScaler()\n",
    "x_train = std_x.fit_transform(x_train)\n",
    "x_test = std_x.transform(x_test)\n",
    "\n",
    "std_y = StandardScaler()\n",
    "y_train = std_y.fit_transform(y_train.reshape(-1,1))\n",
    "y_test = std_y.transform(y_test.reshape(-1,1))"
   ]
  },
  {
   "cell_type": "code",
   "execution_count": 5,
   "metadata": {},
   "outputs": [],
   "source": [
    "from sklearn.linear_model import ElasticNet\n",
    "from sklearn.model_selection import GridSearchCV"
   ]
  },
  {
   "cell_type": "markdown",
   "metadata": {},
   "source": [
    "20种超参数组合，20*5=100"
   ]
  },
  {
   "cell_type": "code",
   "execution_count": 7,
   "metadata": {},
   "outputs": [
    {
     "name": "stderr",
     "output_type": "stream",
     "text": [
      "C:\\ProgramData\\Anaconda3\\lib\\site-packages\\sklearn\\model_selection\\_search.py:814: DeprecationWarning: The default of the `iid` parameter will change from True to False in version 0.22 and will be removed in 0.24. This will change numeric results when test-set sizes are unequal.\n",
      "  DeprecationWarning)\n"
     ]
    },
    {
     "data": {
      "text/plain": [
       "GridSearchCV(cv=5, error_score='raise-deprecating',\n",
       "             estimator=ElasticNet(alpha=1.0, copy_X=True, fit_intercept=True,\n",
       "                                  l1_ratio=0.5, max_iter=1000, normalize=False,\n",
       "                                  positive=False, precompute=False,\n",
       "                                  random_state=None, selection='cyclic',\n",
       "                                  tol=0.0001, warm_start=False),\n",
       "             iid='warn', n_jobs=None,\n",
       "             param_grid={'alpha': [0.05, 0.1, 0.5, 0.8, 1.0],\n",
       "                         'l1_ratio': [0.05, 0.1, 0.5, 0.9]},\n",
       "             pre_dispatch='2*n_jobs', refit=True, return_train_score=False,\n",
       "             scoring=None, verbose=0)"
      ]
     },
     "execution_count": 7,
     "metadata": {},
     "output_type": "execute_result"
    }
   ],
   "source": [
    "param_grid={\n",
    "            \"alpha\":[0.05,0.1,0.5,0.8,1.0],\n",
    "            \"l1_ratio\":[0.05,0.1,0.5,0.9]\n",
    "            }\n",
    "\n",
    "cv = GridSearchCV(ElasticNet(),param_grid=param_grid,cv=5)\n",
    "cv.fit(x_train,y_train)"
   ]
  },
  {
   "cell_type": "code",
   "execution_count": 8,
   "metadata": {},
   "outputs": [
    {
     "data": {
      "text/plain": [
       "{'mean_fit_time': array([0.00279703, 0.00039907, 0.00039902, 0.00019956, 0.00039921,\n",
       "        0.00039921, 0.        , 0.        , 0.00052519, 0.00198712,\n",
       "        0.        , 0.        , 0.        , 0.00198021, 0.        ,\n",
       "        0.        , 0.        , 0.        , 0.        , 0.        ]),\n",
       " 'std_fit_time': array([0.00359552, 0.00048875, 0.00048869, 0.00039911, 0.00048893,\n",
       "        0.00048893, 0.        , 0.        , 0.00105038, 0.00397425,\n",
       "        0.        , 0.        , 0.        , 0.00396042, 0.        ,\n",
       "        0.        , 0.        , 0.        , 0.        , 0.        ]),\n",
       " 'mean_score_time': array([0.00079479, 0.        , 0.00039935, 0.00059729, 0.00079732,\n",
       "        0.00020137, 0.0002048 , 0.00017576, 0.        , 0.        ,\n",
       "        0.00070128, 0.        , 0.        , 0.        , 0.00199509,\n",
       "        0.        , 0.00203371, 0.        , 0.00202374, 0.        ]),\n",
       " 'std_score_time': array([0.00074149, 0.        , 0.0004891 , 0.00048769, 0.00039866,\n",
       "        0.00040274, 0.0004096 , 0.00035152, 0.        , 0.        ,\n",
       "        0.00140257, 0.        , 0.        , 0.        , 0.00399017,\n",
       "        0.        , 0.00406742, 0.        , 0.00404749, 0.        ]),\n",
       " 'param_alpha': masked_array(data=[0.05, 0.05, 0.05, 0.05, 0.1, 0.1, 0.1, 0.1, 0.5, 0.5,\n",
       "                    0.5, 0.5, 0.8, 0.8, 0.8, 0.8, 1.0, 1.0, 1.0, 1.0],\n",
       "              mask=[False, False, False, False, False, False, False, False,\n",
       "                    False, False, False, False, False, False, False, False,\n",
       "                    False, False, False, False],\n",
       "        fill_value='?',\n",
       "             dtype=object),\n",
       " 'param_l1_ratio': masked_array(data=[0.05, 0.1, 0.5, 0.9, 0.05, 0.1, 0.5, 0.9, 0.05, 0.1,\n",
       "                    0.5, 0.9, 0.05, 0.1, 0.5, 0.9, 0.05, 0.1, 0.5, 0.9],\n",
       "              mask=[False, False, False, False, False, False, False, False,\n",
       "                    False, False, False, False, False, False, False, False,\n",
       "                    False, False, False, False],\n",
       "        fill_value='?',\n",
       "             dtype=object),\n",
       " 'params': [{'alpha': 0.05, 'l1_ratio': 0.05},\n",
       "  {'alpha': 0.05, 'l1_ratio': 0.1},\n",
       "  {'alpha': 0.05, 'l1_ratio': 0.5},\n",
       "  {'alpha': 0.05, 'l1_ratio': 0.9},\n",
       "  {'alpha': 0.1, 'l1_ratio': 0.05},\n",
       "  {'alpha': 0.1, 'l1_ratio': 0.1},\n",
       "  {'alpha': 0.1, 'l1_ratio': 0.5},\n",
       "  {'alpha': 0.1, 'l1_ratio': 0.9},\n",
       "  {'alpha': 0.5, 'l1_ratio': 0.05},\n",
       "  {'alpha': 0.5, 'l1_ratio': 0.1},\n",
       "  {'alpha': 0.5, 'l1_ratio': 0.5},\n",
       "  {'alpha': 0.5, 'l1_ratio': 0.9},\n",
       "  {'alpha': 0.8, 'l1_ratio': 0.05},\n",
       "  {'alpha': 0.8, 'l1_ratio': 0.1},\n",
       "  {'alpha': 0.8, 'l1_ratio': 0.5},\n",
       "  {'alpha': 0.8, 'l1_ratio': 0.9},\n",
       "  {'alpha': 1.0, 'l1_ratio': 0.05},\n",
       "  {'alpha': 1.0, 'l1_ratio': 0.1},\n",
       "  {'alpha': 1.0, 'l1_ratio': 0.5},\n",
       "  {'alpha': 1.0, 'l1_ratio': 0.9}],\n",
       " 'split0_test_score': array([ 7.90662146e-01,  7.89221659e-01,  7.82123726e-01,  7.62961929e-01,\n",
       "         7.88750750e-01,  7.84882243e-01,  7.57757555e-01,  7.34054972e-01,\n",
       "         7.48784368e-01,  7.26933032e-01,  5.83535051e-01,  4.22158746e-01,\n",
       "         7.10916004e-01,  6.83765210e-01,  4.20719495e-01,  7.12283815e-02,\n",
       "         6.87063380e-01,  6.51441056e-01,  3.04048743e-01, -5.84534781e-04]),\n",
       " 'split1_test_score': array([ 7.58192667e-01,  7.56592846e-01,  7.36806451e-01,  7.12488005e-01,\n",
       "         7.48811679e-01,  7.44470198e-01,  7.01667238e-01,  6.78479058e-01,\n",
       "         6.74605845e-01,  6.53176083e-01,  5.09370228e-01,  3.57370843e-01,\n",
       "         6.26978392e-01,  6.00160154e-01,  3.52133099e-01,  3.95139336e-02,\n",
       "         5.99660296e-01,  5.65005555e-01,  2.49507640e-01, -3.11314549e-04]),\n",
       " 'split2_test_score': array([ 6.02348735e-01,  5.98302140e-01,  5.76006025e-01,  5.61581302e-01,\n",
       "         5.90431584e-01,  5.82370455e-01,  5.59711264e-01,  5.60420409e-01,\n",
       "         5.37621067e-01,  5.26597704e-01,  4.79374708e-01,  3.64147508e-01,\n",
       "         5.03134119e-01,  4.96143563e-01,  3.56217342e-01,  3.24911291e-02,\n",
       "         4.84587227e-01,  4.72952316e-01,  2.60682247e-01, -6.74804460e-05]),\n",
       " 'split3_test_score': array([ 0.83314952,  0.8331903 ,  0.82896568,  0.81113031,  0.82913435,\n",
       "         0.82775847,  0.79826855,  0.76837271,  0.75426345,  0.72910053,\n",
       "         0.54597299,  0.34853473,  0.69244212,  0.65736436,  0.34965216,\n",
       "        -0.048967  ,  0.65567582,  0.61028657,  0.21379135, -0.048967  ]),\n",
       " 'split4_test_score': array([ 0.62908858,  0.62725046,  0.61308367,  0.6070172 ,  0.63280393,\n",
       "         0.62807079,  0.61803692,  0.62611322,  0.64897928,  0.64193012,\n",
       "         0.5992055 ,  0.46711371,  0.63395942,  0.62421439,  0.45253946,\n",
       "         0.01495647,  0.61843052,  0.60332141,  0.32692817, -0.04981133]),\n",
       " 'mean_test_score': array([ 0.72293529,  0.72115861,  0.70764596,  0.69125743,  0.71821121,\n",
       "         0.71373587,  0.6872705 ,  0.67361307,  0.67291379,  0.65558342,\n",
       "         0.54334469,  0.39166656,  0.63348476,  0.61229818,  0.38607741,\n",
       "         0.02186276,  0.60905879,  0.58054143,  0.27084404, -0.01986954]),\n",
       " 'std_test_score': array([0.09090474, 0.09202947, 0.09735903, 0.09369764, 0.09149028,\n",
       "        0.09340361, 0.08786286, 0.07452314, 0.07915663, 0.07401985,\n",
       "        0.04466367, 0.04553742, 0.07290452, 0.0647658 , 0.04231633,\n",
       "        0.03986559, 0.0692664 , 0.06047899, 0.04010304, 0.02402302]),\n",
       " 'rank_test_score': array([ 1,  2,  5,  6,  3,  4,  7,  8,  9, 10, 15, 16, 11, 12, 17, 19, 13,\n",
       "        14, 18, 20])}"
      ]
     },
     "execution_count": 8,
     "metadata": {},
     "output_type": "execute_result"
    }
   ],
   "source": [
    "cv.cv_results_"
   ]
  },
  {
   "cell_type": "code",
   "execution_count": 9,
   "metadata": {},
   "outputs": [
    {
     "data": {
      "text/plain": [
       "0.7229352938748446"
      ]
     },
     "execution_count": 9,
     "metadata": {},
     "output_type": "execute_result"
    }
   ],
   "source": [
    "cv.best_score_  # 训练集的最佳结果"
   ]
  },
  {
   "cell_type": "code",
   "execution_count": 10,
   "metadata": {},
   "outputs": [
    {
     "data": {
      "text/plain": [
       "0.6499808460646833"
      ]
     },
     "execution_count": 10,
     "metadata": {},
     "output_type": "execute_result"
    }
   ],
   "source": [
    "net = cv.best_estimator_\n",
    "net.score(x_test,y_test)"
   ]
  }
 ],
 "metadata": {
  "kernelspec": {
   "display_name": "Python 3",
   "language": "python",
   "name": "python3"
  },
  "language_info": {
   "codemirror_mode": {
    "name": "ipython",
    "version": 3
   },
   "file_extension": ".py",
   "mimetype": "text/x-python",
   "name": "python",
   "nbconvert_exporter": "python",
   "pygments_lexer": "ipython3",
   "version": "3.7.4"
  }
 },
 "nbformat": 4,
 "nbformat_minor": 2
}
